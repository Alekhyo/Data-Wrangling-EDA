{
  "nbformat": 4,
  "nbformat_minor": 0,
  "metadata": {
    "kernelspec": {
      "display_name": "Python 3",
      "language": "python",
      "name": "python3"
    },
    "language_info": {
      "codemirror_mode": {
        "name": "ipython",
        "version": 3
      },
      "file_extension": ".py",
      "mimetype": "text/x-python",
      "name": "python",
      "nbconvert_exporter": "python",
      "pygments_lexer": "ipython3",
      "version": "3.7.6"
    },
    "colab": {
      "name": "EDA1.ipynb",
      "provenance": [],
      "include_colab_link": true
    }
  },
  "cells": [
    {
      "cell_type": "markdown",
      "metadata": {
        "id": "view-in-github",
        "colab_type": "text"
      },
      "source": [
        "<a href=\"https://colab.research.google.com/github/Alekhyo/Data-Wrangling-EDA/blob/master/EDA1.ipynb\" target=\"_parent\"><img src=\"https://colab.research.google.com/assets/colab-badge.svg\" alt=\"Open In Colab\"/></a>"
      ]
    },
    {
      "cell_type": "code",
      "metadata": {
        "id": "OVYB-BsmyKTy",
        "colab_type": "code",
        "colab": {}
      },
      "source": [
        "import pandas as pd\n",
        "import numpy as np\n",
        "import math"
      ],
      "execution_count": 0,
      "outputs": []
    },
    {
      "cell_type": "code",
      "metadata": {
        "id": "vtO1HPXoyKUE",
        "colab_type": "code",
        "colab": {}
      },
      "source": [
        "patients=pd.read_csv('patients.csv')\n",
        "treatment=pd.read_csv('treatments.csv')\n",
        "adverse=pd.read_csv('adverse_reactions.csv')"
      ],
      "execution_count": 0,
      "outputs": []
    },
    {
      "cell_type": "code",
      "metadata": {
        "id": "Iwdxv0PiyKUS",
        "colab_type": "code",
        "colab": {},
        "outputId": "8f11d84b-f9b8-4eb5-971c-05a47df73a24"
      },
      "source": [
        "patients"
      ],
      "execution_count": 0,
      "outputs": [
        {
          "output_type": "execute_result",
          "data": {
            "text/html": [
              "<div>\n",
              "<style scoped>\n",
              "    .dataframe tbody tr th:only-of-type {\n",
              "        vertical-align: middle;\n",
              "    }\n",
              "\n",
              "    .dataframe tbody tr th {\n",
              "        vertical-align: top;\n",
              "    }\n",
              "\n",
              "    .dataframe thead th {\n",
              "        text-align: right;\n",
              "    }\n",
              "</style>\n",
              "<table border=\"1\" class=\"dataframe\">\n",
              "  <thead>\n",
              "    <tr style=\"text-align: right;\">\n",
              "      <th></th>\n",
              "      <th>patient_id</th>\n",
              "      <th>assigned_sex</th>\n",
              "      <th>given_name</th>\n",
              "      <th>surname</th>\n",
              "      <th>address</th>\n",
              "      <th>city</th>\n",
              "      <th>state</th>\n",
              "      <th>zip_code</th>\n",
              "      <th>country</th>\n",
              "      <th>contact</th>\n",
              "      <th>birthdate</th>\n",
              "      <th>weight</th>\n",
              "      <th>height</th>\n",
              "      <th>bmi</th>\n",
              "    </tr>\n",
              "  </thead>\n",
              "  <tbody>\n",
              "    <tr>\n",
              "      <th>0</th>\n",
              "      <td>1</td>\n",
              "      <td>female</td>\n",
              "      <td>Zoe</td>\n",
              "      <td>Wellish</td>\n",
              "      <td>576 Brown Bear Drive</td>\n",
              "      <td>Rancho California</td>\n",
              "      <td>California</td>\n",
              "      <td>92390.0</td>\n",
              "      <td>United States</td>\n",
              "      <td>951-719-9170ZoeWellish@superrito.com</td>\n",
              "      <td>7/10/1976</td>\n",
              "      <td>121.7</td>\n",
              "      <td>66</td>\n",
              "      <td>19.6</td>\n",
              "    </tr>\n",
              "    <tr>\n",
              "      <th>1</th>\n",
              "      <td>2</td>\n",
              "      <td>female</td>\n",
              "      <td>Pamela</td>\n",
              "      <td>Hill</td>\n",
              "      <td>2370 University Hill Road</td>\n",
              "      <td>Armstrong</td>\n",
              "      <td>Illinois</td>\n",
              "      <td>61812.0</td>\n",
              "      <td>United States</td>\n",
              "      <td>PamelaSHill@cuvox.de+1 (217) 569-3204</td>\n",
              "      <td>4/3/1967</td>\n",
              "      <td>118.8</td>\n",
              "      <td>66</td>\n",
              "      <td>19.2</td>\n",
              "    </tr>\n",
              "    <tr>\n",
              "      <th>2</th>\n",
              "      <td>3</td>\n",
              "      <td>male</td>\n",
              "      <td>Jae</td>\n",
              "      <td>Debord</td>\n",
              "      <td>1493 Poling Farm Road</td>\n",
              "      <td>York</td>\n",
              "      <td>Nebraska</td>\n",
              "      <td>68467.0</td>\n",
              "      <td>United States</td>\n",
              "      <td>402-363-6804JaeMDebord@gustr.com</td>\n",
              "      <td>2/19/1980</td>\n",
              "      <td>177.8</td>\n",
              "      <td>71</td>\n",
              "      <td>24.8</td>\n",
              "    </tr>\n",
              "    <tr>\n",
              "      <th>3</th>\n",
              "      <td>4</td>\n",
              "      <td>male</td>\n",
              "      <td>Liêm</td>\n",
              "      <td>Phan</td>\n",
              "      <td>2335 Webster Street</td>\n",
              "      <td>Woodbridge</td>\n",
              "      <td>NJ</td>\n",
              "      <td>7095.0</td>\n",
              "      <td>United States</td>\n",
              "      <td>PhanBaLiem@jourrapide.com+1 (732) 636-8246</td>\n",
              "      <td>7/26/1951</td>\n",
              "      <td>220.9</td>\n",
              "      <td>70</td>\n",
              "      <td>31.7</td>\n",
              "    </tr>\n",
              "    <tr>\n",
              "      <th>4</th>\n",
              "      <td>5</td>\n",
              "      <td>male</td>\n",
              "      <td>Tim</td>\n",
              "      <td>Neudorf</td>\n",
              "      <td>1428 Turkey Pen Lane</td>\n",
              "      <td>Dothan</td>\n",
              "      <td>AL</td>\n",
              "      <td>36303.0</td>\n",
              "      <td>United States</td>\n",
              "      <td>334-515-7487TimNeudorf@cuvox.de</td>\n",
              "      <td>2/18/1928</td>\n",
              "      <td>192.3</td>\n",
              "      <td>27</td>\n",
              "      <td>26.1</td>\n",
              "    </tr>\n",
              "    <tr>\n",
              "      <th>...</th>\n",
              "      <td>...</td>\n",
              "      <td>...</td>\n",
              "      <td>...</td>\n",
              "      <td>...</td>\n",
              "      <td>...</td>\n",
              "      <td>...</td>\n",
              "      <td>...</td>\n",
              "      <td>...</td>\n",
              "      <td>...</td>\n",
              "      <td>...</td>\n",
              "      <td>...</td>\n",
              "      <td>...</td>\n",
              "      <td>...</td>\n",
              "      <td>...</td>\n",
              "    </tr>\n",
              "    <tr>\n",
              "      <th>498</th>\n",
              "      <td>499</td>\n",
              "      <td>male</td>\n",
              "      <td>Mustafa</td>\n",
              "      <td>Lindström</td>\n",
              "      <td>2530 Victoria Court</td>\n",
              "      <td>Milton Mills</td>\n",
              "      <td>ME</td>\n",
              "      <td>3852.0</td>\n",
              "      <td>United States</td>\n",
              "      <td>207-477-0579MustafaLindstrom@jourrapide.com</td>\n",
              "      <td>4/10/1959</td>\n",
              "      <td>181.1</td>\n",
              "      <td>72</td>\n",
              "      <td>24.6</td>\n",
              "    </tr>\n",
              "    <tr>\n",
              "      <th>499</th>\n",
              "      <td>500</td>\n",
              "      <td>male</td>\n",
              "      <td>Ruman</td>\n",
              "      <td>Bisliev</td>\n",
              "      <td>494 Clarksburg Park Road</td>\n",
              "      <td>Sedona</td>\n",
              "      <td>AZ</td>\n",
              "      <td>86341.0</td>\n",
              "      <td>United States</td>\n",
              "      <td>928-284-4492RumanBisliev@gustr.com</td>\n",
              "      <td>3/26/1948</td>\n",
              "      <td>239.6</td>\n",
              "      <td>70</td>\n",
              "      <td>34.4</td>\n",
              "    </tr>\n",
              "    <tr>\n",
              "      <th>500</th>\n",
              "      <td>501</td>\n",
              "      <td>female</td>\n",
              "      <td>Jinke</td>\n",
              "      <td>de Keizer</td>\n",
              "      <td>649 Nutter Street</td>\n",
              "      <td>Overland Park</td>\n",
              "      <td>MO</td>\n",
              "      <td>64110.0</td>\n",
              "      <td>United States</td>\n",
              "      <td>816-223-6007JinkedeKeizer@teleworm.us</td>\n",
              "      <td>1/13/1971</td>\n",
              "      <td>171.2</td>\n",
              "      <td>67</td>\n",
              "      <td>26.8</td>\n",
              "    </tr>\n",
              "    <tr>\n",
              "      <th>501</th>\n",
              "      <td>502</td>\n",
              "      <td>female</td>\n",
              "      <td>Chidalu</td>\n",
              "      <td>Onyekaozulu</td>\n",
              "      <td>3652 Boone Crockett Lane</td>\n",
              "      <td>Seattle</td>\n",
              "      <td>WA</td>\n",
              "      <td>98109.0</td>\n",
              "      <td>United States</td>\n",
              "      <td>ChidaluOnyekaozulu@jourrapide.com1 360 443 2060</td>\n",
              "      <td>2/13/1952</td>\n",
              "      <td>176.9</td>\n",
              "      <td>67</td>\n",
              "      <td>27.7</td>\n",
              "    </tr>\n",
              "    <tr>\n",
              "      <th>502</th>\n",
              "      <td>503</td>\n",
              "      <td>male</td>\n",
              "      <td>Pat</td>\n",
              "      <td>Gersten</td>\n",
              "      <td>2778 North Avenue</td>\n",
              "      <td>Burr</td>\n",
              "      <td>Nebraska</td>\n",
              "      <td>68324.0</td>\n",
              "      <td>United States</td>\n",
              "      <td>PatrickGersten@rhyta.com402-848-4923</td>\n",
              "      <td>5/3/1954</td>\n",
              "      <td>138.2</td>\n",
              "      <td>71</td>\n",
              "      <td>19.3</td>\n",
              "    </tr>\n",
              "  </tbody>\n",
              "</table>\n",
              "<p>503 rows × 14 columns</p>\n",
              "</div>"
            ],
            "text/plain": [
              "     patient_id assigned_sex given_name      surname  \\\n",
              "0             1       female        Zoe      Wellish   \n",
              "1             2       female     Pamela         Hill   \n",
              "2             3         male        Jae       Debord   \n",
              "3             4         male       Liêm         Phan   \n",
              "4             5         male        Tim      Neudorf   \n",
              "..          ...          ...        ...          ...   \n",
              "498         499         male    Mustafa    Lindström   \n",
              "499         500         male      Ruman      Bisliev   \n",
              "500         501       female      Jinke    de Keizer   \n",
              "501         502       female    Chidalu  Onyekaozulu   \n",
              "502         503         male        Pat      Gersten   \n",
              "\n",
              "                       address               city       state  zip_code  \\\n",
              "0         576 Brown Bear Drive  Rancho California  California   92390.0   \n",
              "1    2370 University Hill Road          Armstrong    Illinois   61812.0   \n",
              "2        1493 Poling Farm Road               York    Nebraska   68467.0   \n",
              "3          2335 Webster Street         Woodbridge          NJ    7095.0   \n",
              "4         1428 Turkey Pen Lane             Dothan          AL   36303.0   \n",
              "..                         ...                ...         ...       ...   \n",
              "498        2530 Victoria Court       Milton Mills          ME    3852.0   \n",
              "499   494 Clarksburg Park Road             Sedona          AZ   86341.0   \n",
              "500          649 Nutter Street      Overland Park          MO   64110.0   \n",
              "501   3652 Boone Crockett Lane            Seattle          WA   98109.0   \n",
              "502          2778 North Avenue               Burr    Nebraska   68324.0   \n",
              "\n",
              "           country                                          contact  \\\n",
              "0    United States             951-719-9170ZoeWellish@superrito.com   \n",
              "1    United States            PamelaSHill@cuvox.de+1 (217) 569-3204   \n",
              "2    United States                 402-363-6804JaeMDebord@gustr.com   \n",
              "3    United States       PhanBaLiem@jourrapide.com+1 (732) 636-8246   \n",
              "4    United States                  334-515-7487TimNeudorf@cuvox.de   \n",
              "..             ...                                              ...   \n",
              "498  United States      207-477-0579MustafaLindstrom@jourrapide.com   \n",
              "499  United States               928-284-4492RumanBisliev@gustr.com   \n",
              "500  United States            816-223-6007JinkedeKeizer@teleworm.us   \n",
              "501  United States  ChidaluOnyekaozulu@jourrapide.com1 360 443 2060   \n",
              "502  United States             PatrickGersten@rhyta.com402-848-4923   \n",
              "\n",
              "     birthdate  weight  height   bmi  \n",
              "0    7/10/1976   121.7      66  19.6  \n",
              "1     4/3/1967   118.8      66  19.2  \n",
              "2    2/19/1980   177.8      71  24.8  \n",
              "3    7/26/1951   220.9      70  31.7  \n",
              "4    2/18/1928   192.3      27  26.1  \n",
              "..         ...     ...     ...   ...  \n",
              "498  4/10/1959   181.1      72  24.6  \n",
              "499  3/26/1948   239.6      70  34.4  \n",
              "500  1/13/1971   171.2      67  26.8  \n",
              "501  2/13/1952   176.9      67  27.7  \n",
              "502   5/3/1954   138.2      71  19.3  \n",
              "\n",
              "[503 rows x 14 columns]"
            ]
          },
          "metadata": {
            "tags": []
          },
          "execution_count": 259
        }
      ]
    },
    {
      "cell_type": "code",
      "metadata": {
        "id": "GQEZEgBeyKUj",
        "colab_type": "code",
        "colab": {},
        "outputId": "c1b77327-f779-4468-8322-2639eb23e866"
      },
      "source": [
        "patients.info()"
      ],
      "execution_count": 0,
      "outputs": [
        {
          "output_type": "stream",
          "text": [
            "<class 'pandas.core.frame.DataFrame'>\n",
            "RangeIndex: 503 entries, 0 to 502\n",
            "Data columns (total 14 columns):\n",
            " #   Column        Non-Null Count  Dtype  \n",
            "---  ------        --------------  -----  \n",
            " 0   patient_id    503 non-null    int64  \n",
            " 1   assigned_sex  503 non-null    object \n",
            " 2   given_name    503 non-null    object \n",
            " 3   surname       503 non-null    object \n",
            " 4   address       491 non-null    object \n",
            " 5   city          491 non-null    object \n",
            " 6   state         491 non-null    object \n",
            " 7   zip_code      491 non-null    float64\n",
            " 8   country       491 non-null    object \n",
            " 9   contact       491 non-null    object \n",
            " 10  birthdate     503 non-null    object \n",
            " 11  weight        503 non-null    float64\n",
            " 12  height        503 non-null    int64  \n",
            " 13  bmi           503 non-null    float64\n",
            "dtypes: float64(3), int64(2), object(9)\n",
            "memory usage: 55.1+ KB\n"
          ],
          "name": "stdout"
        }
      ]
    },
    {
      "cell_type": "code",
      "metadata": {
        "id": "wg0DkkfEyKUs",
        "colab_type": "code",
        "colab": {},
        "outputId": "b5f9b564-a061-492c-85db-82912bba0479"
      },
      "source": [
        "treatment"
      ],
      "execution_count": 0,
      "outputs": [
        {
          "output_type": "execute_result",
          "data": {
            "text/html": [
              "<div>\n",
              "<style scoped>\n",
              "    .dataframe tbody tr th:only-of-type {\n",
              "        vertical-align: middle;\n",
              "    }\n",
              "\n",
              "    .dataframe tbody tr th {\n",
              "        vertical-align: top;\n",
              "    }\n",
              "\n",
              "    .dataframe thead th {\n",
              "        text-align: right;\n",
              "    }\n",
              "</style>\n",
              "<table border=\"1\" class=\"dataframe\">\n",
              "  <thead>\n",
              "    <tr style=\"text-align: right;\">\n",
              "      <th></th>\n",
              "      <th>given_name</th>\n",
              "      <th>surname</th>\n",
              "      <th>auralin</th>\n",
              "      <th>novodra</th>\n",
              "      <th>hba1c_start</th>\n",
              "      <th>hba1c_end</th>\n",
              "      <th>hba1c_change</th>\n",
              "    </tr>\n",
              "  </thead>\n",
              "  <tbody>\n",
              "    <tr>\n",
              "      <th>0</th>\n",
              "      <td>veronika</td>\n",
              "      <td>jindrová</td>\n",
              "      <td>41u - 48u</td>\n",
              "      <td>-</td>\n",
              "      <td>7.63</td>\n",
              "      <td>7.20</td>\n",
              "      <td>NaN</td>\n",
              "    </tr>\n",
              "    <tr>\n",
              "      <th>1</th>\n",
              "      <td>elliot</td>\n",
              "      <td>richardson</td>\n",
              "      <td>-</td>\n",
              "      <td>40u - 45u</td>\n",
              "      <td>7.56</td>\n",
              "      <td>7.09</td>\n",
              "      <td>0.97</td>\n",
              "    </tr>\n",
              "    <tr>\n",
              "      <th>2</th>\n",
              "      <td>yukitaka</td>\n",
              "      <td>takenaka</td>\n",
              "      <td>-</td>\n",
              "      <td>39u - 36u</td>\n",
              "      <td>7.68</td>\n",
              "      <td>7.25</td>\n",
              "      <td>NaN</td>\n",
              "    </tr>\n",
              "    <tr>\n",
              "      <th>3</th>\n",
              "      <td>skye</td>\n",
              "      <td>gormanston</td>\n",
              "      <td>33u - 36u</td>\n",
              "      <td>-</td>\n",
              "      <td>7.97</td>\n",
              "      <td>7.62</td>\n",
              "      <td>0.35</td>\n",
              "    </tr>\n",
              "    <tr>\n",
              "      <th>4</th>\n",
              "      <td>alissa</td>\n",
              "      <td>montez</td>\n",
              "      <td>-</td>\n",
              "      <td>33u - 29u</td>\n",
              "      <td>7.78</td>\n",
              "      <td>7.46</td>\n",
              "      <td>0.32</td>\n",
              "    </tr>\n",
              "    <tr>\n",
              "      <th>...</th>\n",
              "      <td>...</td>\n",
              "      <td>...</td>\n",
              "      <td>...</td>\n",
              "      <td>...</td>\n",
              "      <td>...</td>\n",
              "      <td>...</td>\n",
              "      <td>...</td>\n",
              "    </tr>\n",
              "    <tr>\n",
              "      <th>275</th>\n",
              "      <td>albina</td>\n",
              "      <td>zetticci</td>\n",
              "      <td>45u - 51u</td>\n",
              "      <td>-</td>\n",
              "      <td>7.93</td>\n",
              "      <td>7.73</td>\n",
              "      <td>0.20</td>\n",
              "    </tr>\n",
              "    <tr>\n",
              "      <th>276</th>\n",
              "      <td>john</td>\n",
              "      <td>teichelmann</td>\n",
              "      <td>-</td>\n",
              "      <td>49u - 49u</td>\n",
              "      <td>7.90</td>\n",
              "      <td>7.58</td>\n",
              "      <td>NaN</td>\n",
              "    </tr>\n",
              "    <tr>\n",
              "      <th>277</th>\n",
              "      <td>mathea</td>\n",
              "      <td>lillebø</td>\n",
              "      <td>23u - 36u</td>\n",
              "      <td>-</td>\n",
              "      <td>9.04</td>\n",
              "      <td>8.67</td>\n",
              "      <td>0.37</td>\n",
              "    </tr>\n",
              "    <tr>\n",
              "      <th>278</th>\n",
              "      <td>vallie</td>\n",
              "      <td>prince</td>\n",
              "      <td>31u - 38u</td>\n",
              "      <td>-</td>\n",
              "      <td>7.64</td>\n",
              "      <td>7.28</td>\n",
              "      <td>0.36</td>\n",
              "    </tr>\n",
              "    <tr>\n",
              "      <th>279</th>\n",
              "      <td>samúel</td>\n",
              "      <td>guðbrandsson</td>\n",
              "      <td>53u - 56u</td>\n",
              "      <td>-</td>\n",
              "      <td>8.00</td>\n",
              "      <td>7.64</td>\n",
              "      <td>0.36</td>\n",
              "    </tr>\n",
              "  </tbody>\n",
              "</table>\n",
              "<p>280 rows × 7 columns</p>\n",
              "</div>"
            ],
            "text/plain": [
              "    given_name       surname    auralin    novodra  hba1c_start  hba1c_end  \\\n",
              "0     veronika      jindrová  41u - 48u          -         7.63       7.20   \n",
              "1       elliot    richardson          -  40u - 45u         7.56       7.09   \n",
              "2     yukitaka      takenaka          -  39u - 36u         7.68       7.25   \n",
              "3         skye    gormanston  33u - 36u          -         7.97       7.62   \n",
              "4       alissa        montez          -  33u - 29u         7.78       7.46   \n",
              "..         ...           ...        ...        ...          ...        ...   \n",
              "275     albina      zetticci  45u - 51u          -         7.93       7.73   \n",
              "276       john   teichelmann          -  49u - 49u         7.90       7.58   \n",
              "277     mathea       lillebø  23u - 36u          -         9.04       8.67   \n",
              "278     vallie        prince  31u - 38u          -         7.64       7.28   \n",
              "279     samúel  guðbrandsson  53u - 56u          -         8.00       7.64   \n",
              "\n",
              "     hba1c_change  \n",
              "0             NaN  \n",
              "1            0.97  \n",
              "2             NaN  \n",
              "3            0.35  \n",
              "4            0.32  \n",
              "..            ...  \n",
              "275          0.20  \n",
              "276           NaN  \n",
              "277          0.37  \n",
              "278          0.36  \n",
              "279          0.36  \n",
              "\n",
              "[280 rows x 7 columns]"
            ]
          },
          "metadata": {
            "tags": []
          },
          "execution_count": 261
        }
      ]
    },
    {
      "cell_type": "code",
      "metadata": {
        "id": "ODd2eISiyKUz",
        "colab_type": "code",
        "colab": {},
        "outputId": "36b3bb71-1bd7-4186-9caa-9a49d954d75f"
      },
      "source": [
        "adverse"
      ],
      "execution_count": 0,
      "outputs": [
        {
          "output_type": "execute_result",
          "data": {
            "text/html": [
              "<div>\n",
              "<style scoped>\n",
              "    .dataframe tbody tr th:only-of-type {\n",
              "        vertical-align: middle;\n",
              "    }\n",
              "\n",
              "    .dataframe tbody tr th {\n",
              "        vertical-align: top;\n",
              "    }\n",
              "\n",
              "    .dataframe thead th {\n",
              "        text-align: right;\n",
              "    }\n",
              "</style>\n",
              "<table border=\"1\" class=\"dataframe\">\n",
              "  <thead>\n",
              "    <tr style=\"text-align: right;\">\n",
              "      <th></th>\n",
              "      <th>given_name</th>\n",
              "      <th>surname</th>\n",
              "      <th>adverse_reaction</th>\n",
              "    </tr>\n",
              "  </thead>\n",
              "  <tbody>\n",
              "    <tr>\n",
              "      <th>0</th>\n",
              "      <td>berta</td>\n",
              "      <td>napolitani</td>\n",
              "      <td>injection site discomfort</td>\n",
              "    </tr>\n",
              "    <tr>\n",
              "      <th>1</th>\n",
              "      <td>lena</td>\n",
              "      <td>baer</td>\n",
              "      <td>hypoglycemia</td>\n",
              "    </tr>\n",
              "    <tr>\n",
              "      <th>2</th>\n",
              "      <td>joseph</td>\n",
              "      <td>day</td>\n",
              "      <td>hypoglycemia</td>\n",
              "    </tr>\n",
              "    <tr>\n",
              "      <th>3</th>\n",
              "      <td>flavia</td>\n",
              "      <td>fiorentino</td>\n",
              "      <td>cough</td>\n",
              "    </tr>\n",
              "    <tr>\n",
              "      <th>4</th>\n",
              "      <td>manouck</td>\n",
              "      <td>wubbels</td>\n",
              "      <td>throat irritation</td>\n",
              "    </tr>\n",
              "    <tr>\n",
              "      <th>5</th>\n",
              "      <td>jasmine</td>\n",
              "      <td>sykes</td>\n",
              "      <td>hypoglycemia</td>\n",
              "    </tr>\n",
              "    <tr>\n",
              "      <th>6</th>\n",
              "      <td>louise</td>\n",
              "      <td>johnson</td>\n",
              "      <td>hypoglycemia</td>\n",
              "    </tr>\n",
              "    <tr>\n",
              "      <th>7</th>\n",
              "      <td>albinca</td>\n",
              "      <td>komavec</td>\n",
              "      <td>hypoglycemia</td>\n",
              "    </tr>\n",
              "    <tr>\n",
              "      <th>8</th>\n",
              "      <td>noe</td>\n",
              "      <td>aranda</td>\n",
              "      <td>hypoglycemia</td>\n",
              "    </tr>\n",
              "    <tr>\n",
              "      <th>9</th>\n",
              "      <td>sofia</td>\n",
              "      <td>hermansen</td>\n",
              "      <td>injection site discomfort</td>\n",
              "    </tr>\n",
              "    <tr>\n",
              "      <th>10</th>\n",
              "      <td>tegan</td>\n",
              "      <td>johnson</td>\n",
              "      <td>headache</td>\n",
              "    </tr>\n",
              "    <tr>\n",
              "      <th>11</th>\n",
              "      <td>abel</td>\n",
              "      <td>yonatan</td>\n",
              "      <td>cough</td>\n",
              "    </tr>\n",
              "    <tr>\n",
              "      <th>12</th>\n",
              "      <td>abdul-nur</td>\n",
              "      <td>isa</td>\n",
              "      <td>hypoglycemia</td>\n",
              "    </tr>\n",
              "    <tr>\n",
              "      <th>13</th>\n",
              "      <td>leon</td>\n",
              "      <td>scholz</td>\n",
              "      <td>injection site discomfort</td>\n",
              "    </tr>\n",
              "    <tr>\n",
              "      <th>14</th>\n",
              "      <td>gabriele</td>\n",
              "      <td>saenger</td>\n",
              "      <td>hypoglycemia</td>\n",
              "    </tr>\n",
              "    <tr>\n",
              "      <th>15</th>\n",
              "      <td>jia li</td>\n",
              "      <td>teng</td>\n",
              "      <td>nausea</td>\n",
              "    </tr>\n",
              "    <tr>\n",
              "      <th>16</th>\n",
              "      <td>jakob</td>\n",
              "      <td>jakobsen</td>\n",
              "      <td>hypoglycemia</td>\n",
              "    </tr>\n",
              "    <tr>\n",
              "      <th>17</th>\n",
              "      <td>christopher</td>\n",
              "      <td>woodward</td>\n",
              "      <td>nausea</td>\n",
              "    </tr>\n",
              "    <tr>\n",
              "      <th>18</th>\n",
              "      <td>ole</td>\n",
              "      <td>petersen</td>\n",
              "      <td>hypoglycemia</td>\n",
              "    </tr>\n",
              "    <tr>\n",
              "      <th>19</th>\n",
              "      <td>finley</td>\n",
              "      <td>chandler</td>\n",
              "      <td>headache</td>\n",
              "    </tr>\n",
              "    <tr>\n",
              "      <th>20</th>\n",
              "      <td>anenechi</td>\n",
              "      <td>chidi</td>\n",
              "      <td>hypoglycemia</td>\n",
              "    </tr>\n",
              "    <tr>\n",
              "      <th>21</th>\n",
              "      <td>miłosław</td>\n",
              "      <td>wiśniewski</td>\n",
              "      <td>injection site discomfort</td>\n",
              "    </tr>\n",
              "    <tr>\n",
              "      <th>22</th>\n",
              "      <td>lixue</td>\n",
              "      <td>hsueh</td>\n",
              "      <td>injection site discomfort</td>\n",
              "    </tr>\n",
              "    <tr>\n",
              "      <th>23</th>\n",
              "      <td>merci</td>\n",
              "      <td>leroux</td>\n",
              "      <td>hypoglycemia</td>\n",
              "    </tr>\n",
              "    <tr>\n",
              "      <th>24</th>\n",
              "      <td>kang</td>\n",
              "      <td>mai</td>\n",
              "      <td>injection site discomfort</td>\n",
              "    </tr>\n",
              "    <tr>\n",
              "      <th>25</th>\n",
              "      <td>elliot</td>\n",
              "      <td>richardson</td>\n",
              "      <td>hypoglycemia</td>\n",
              "    </tr>\n",
              "    <tr>\n",
              "      <th>26</th>\n",
              "      <td>clinton</td>\n",
              "      <td>miller</td>\n",
              "      <td>throat irritation</td>\n",
              "    </tr>\n",
              "    <tr>\n",
              "      <th>27</th>\n",
              "      <td>idalia</td>\n",
              "      <td>moore</td>\n",
              "      <td>hypoglycemia</td>\n",
              "    </tr>\n",
              "    <tr>\n",
              "      <th>28</th>\n",
              "      <td>xiuxiu</td>\n",
              "      <td>chang</td>\n",
              "      <td>hypoglycemia</td>\n",
              "    </tr>\n",
              "    <tr>\n",
              "      <th>29</th>\n",
              "      <td>alex</td>\n",
              "      <td>crawford</td>\n",
              "      <td>hypoglycemia</td>\n",
              "    </tr>\n",
              "    <tr>\n",
              "      <th>30</th>\n",
              "      <td>monika</td>\n",
              "      <td>lončar</td>\n",
              "      <td>hypoglycemia</td>\n",
              "    </tr>\n",
              "    <tr>\n",
              "      <th>31</th>\n",
              "      <td>steven</td>\n",
              "      <td>roy</td>\n",
              "      <td>headache</td>\n",
              "    </tr>\n",
              "    <tr>\n",
              "      <th>32</th>\n",
              "      <td>cecilie</td>\n",
              "      <td>nilsen</td>\n",
              "      <td>hypoglycemia</td>\n",
              "    </tr>\n",
              "    <tr>\n",
              "      <th>33</th>\n",
              "      <td>krisztina</td>\n",
              "      <td>magyar</td>\n",
              "      <td>hypoglycemia</td>\n",
              "    </tr>\n",
              "  </tbody>\n",
              "</table>\n",
              "</div>"
            ],
            "text/plain": [
              "     given_name     surname           adverse_reaction\n",
              "0         berta  napolitani  injection site discomfort\n",
              "1          lena        baer               hypoglycemia\n",
              "2        joseph         day               hypoglycemia\n",
              "3        flavia  fiorentino                      cough\n",
              "4       manouck     wubbels          throat irritation\n",
              "5       jasmine       sykes               hypoglycemia\n",
              "6        louise     johnson               hypoglycemia\n",
              "7       albinca     komavec               hypoglycemia\n",
              "8           noe      aranda               hypoglycemia\n",
              "9         sofia   hermansen  injection site discomfort\n",
              "10        tegan     johnson                   headache\n",
              "11         abel     yonatan                      cough\n",
              "12    abdul-nur         isa               hypoglycemia\n",
              "13         leon      scholz  injection site discomfort\n",
              "14     gabriele     saenger               hypoglycemia\n",
              "15       jia li        teng                     nausea\n",
              "16        jakob    jakobsen               hypoglycemia\n",
              "17  christopher    woodward                     nausea\n",
              "18          ole    petersen               hypoglycemia\n",
              "19       finley    chandler                   headache\n",
              "20     anenechi       chidi               hypoglycemia\n",
              "21     miłosław  wiśniewski  injection site discomfort\n",
              "22        lixue       hsueh  injection site discomfort\n",
              "23        merci      leroux               hypoglycemia\n",
              "24         kang         mai  injection site discomfort\n",
              "25       elliot  richardson               hypoglycemia\n",
              "26      clinton      miller          throat irritation\n",
              "27       idalia       moore               hypoglycemia\n",
              "28       xiuxiu       chang               hypoglycemia\n",
              "29         alex    crawford               hypoglycemia\n",
              "30       monika      lončar               hypoglycemia\n",
              "31       steven         roy                   headache\n",
              "32      cecilie      nilsen               hypoglycemia\n",
              "33    krisztina      magyar               hypoglycemia"
            ]
          },
          "metadata": {
            "tags": []
          },
          "execution_count": 262
        }
      ]
    },
    {
      "cell_type": "markdown",
      "metadata": {
        "id": "4VY8PinFyKU4",
        "colab_type": "text"
      },
      "source": [
        "Treatment: missing in hba1c change (Completeness)---DONE,\n",
        "novodra-aurolin is string containing unit (validity)---DONE\n",
        "data missing(only 280 rows instead of 350) (completeness)---DONE\n",
        "name and surname in lowercase, (consistency)---DONE\n",
        "incorrect data type for auralin and novadra, (validity)---DONE\n",
        "hba1c change 9 instead of 4, (accuracy)---DONE\n",
        "put nan values in place of hyphen (consistency)---DONE\n",
        "\n",
        "\n",
        "Patients: Zip code in decimal, (Validity)---DONE\n",
        "zip code of 4 digits, (Validity)---DONE\n",
        "shortform of states,(consistency)---DONE\n",
        "missing contact details, (completeness)----DONE\n",
        "incorrect data type for assigned_sex-birthdate columns, (?)---DONE\n",
        "erronous data for wt-height, (Accuracy)---DONE\n",
        "inconsistent way of storing phone numbers in contact,(consistency)---DONE\n",
        "duplicated and not useful data (consistency)---DONE\n",
        "\n",
        "adverse:  name/surname in lowercase (consistency) ---DONE"
      ]
    },
    {
      "cell_type": "markdown",
      "metadata": {
        "id": "IHS5kGuKyKU5",
        "colab_type": "text"
      },
      "source": [
        "Structural Data:\n",
        "\n",
        "patients: phone and email in same col----DONE\n",
        "\n",
        "treatments:lower/higher and type of treatment---DONE\n",
        "\n",
        "adverse: not required. Append in treatment --- DONE"
      ]
    },
    {
      "cell_type": "code",
      "metadata": {
        "id": "sBgrN-uyyKU6",
        "colab_type": "code",
        "colab": {}
      },
      "source": [
        "patients_copy=patients.copy()\n",
        "treatment_copy=treatment.copy()\n",
        "adverse_copy=adverse.copy()\n",
        "treatments2=pd.read_csv('treatments_cut.csv')"
      ],
      "execution_count": 0,
      "outputs": []
    },
    {
      "cell_type": "code",
      "metadata": {
        "id": "06ZnIeVVyKVE",
        "colab_type": "code",
        "colab": {}
      },
      "source": [
        "treatment_copy=pd.concat([treatment_copy,treatments2])"
      ],
      "execution_count": 0,
      "outputs": []
    },
    {
      "cell_type": "code",
      "metadata": {
        "id": "el_JEotOyKVM",
        "colab_type": "code",
        "colab": {}
      },
      "source": [
        "treatment_copy['hba1c_change']=treatment_copy['hba1c_start']-treatment_copy['hba1c_end']"
      ],
      "execution_count": 0,
      "outputs": []
    },
    {
      "cell_type": "code",
      "metadata": {
        "id": "P9pn1ErWyKVT",
        "colab_type": "code",
        "colab": {},
        "outputId": "07ba4b77-0174-4a11-e047-67acb6c80157"
      },
      "source": [
        "treatment_copy=pd.melt(treatment_copy,id_vars=['given_name','surname','hba1c_start','hba1c_end','hba1c_change'],var_name='treatment',value_name='dose')\n",
        "treatment_copy=treatment_copy[treatment_copy['dose']!='-']\n",
        "treatment_copy['start'],treatment_copy['end']=treatment_copy['dose'].str.split('-').str\n",
        "treatment_copy.drop(columns=['dose'],inplace=True)"
      ],
      "execution_count": 0,
      "outputs": [
        {
          "output_type": "stream",
          "text": [
            "C:\\Users\\ALEKHYO\\Anaconda3\\lib\\site-packages\\ipykernel_launcher.py:3: FutureWarning: Columnar iteration over characters will be deprecated in future releases.\n",
            "  This is separate from the ipykernel package so we can avoid doing imports until\n"
          ],
          "name": "stderr"
        }
      ]
    },
    {
      "cell_type": "code",
      "metadata": {
        "id": "sQdxgonXyKVb",
        "colab_type": "code",
        "colab": {}
      },
      "source": [
        "treatment_copy['given_name']=treatment_copy['given_name'].str.capitalize()\n",
        "treatment_copy['surname']=treatment_copy['surname'].str.capitalize()"
      ],
      "execution_count": 0,
      "outputs": []
    },
    {
      "cell_type": "code",
      "metadata": {
        "id": "29iFAf_PyKVh",
        "colab_type": "code",
        "colab": {}
      },
      "source": [
        "import re\n",
        "patients_copy['phone']=patients_copy['contact'].str.findall(\"\\+?\\d?[ -]?\\(?\\d{3}\\)?[ -]?\\d{3}[ -]?\\d{4}\")\n",
        "patients_copy['email']=patients_copy['contact'].str.findall('[a-zA-Z]+@[a-zA-Z]+\\.[a-zA-Z]+')\n",
        "patients_copy['phone']=patients_copy['phone'].str[0]\n",
        "patients_copy['email']=patients_copy['email'].str[0]\n",
        "patients_copy.drop(columns=['contact'],inplace=True)"
      ],
      "execution_count": 0,
      "outputs": []
    },
    {
      "cell_type": "code",
      "metadata": {
        "id": "iNqbcbfgyKV8",
        "colab_type": "code",
        "colab": {}
      },
      "source": [
        "patients_copy['given_name']=patients_copy['given_name'].str.capitalize()\n",
        "patients_copy['surname']=patients_copy['surname'].str.capitalize()"
      ],
      "execution_count": 0,
      "outputs": []
    },
    {
      "cell_type": "code",
      "metadata": {
        "id": "x4pYglJayKV_",
        "colab_type": "code",
        "colab": {}
      },
      "source": [
        "adverse_copy['given_name']=adverse_copy['given_name'].str.capitalize()\n",
        "adverse_copy['surname']=adverse_copy['surname'].str.capitalize()"
      ],
      "execution_count": 0,
      "outputs": []
    },
    {
      "cell_type": "code",
      "metadata": {
        "id": "ie-72T8cyKWE",
        "colab_type": "code",
        "colab": {}
      },
      "source": [
        "treatment_copy=treatment_copy.merge(adverse_copy,left_on=['given_name','surname'],right_on=['given_name','surname'],how='outer')"
      ],
      "execution_count": 0,
      "outputs": []
    },
    {
      "cell_type": "code",
      "metadata": {
        "id": "1i0VrFk9yKWI",
        "colab_type": "code",
        "colab": {}
      },
      "source": [
        "patients_copy['country']=patients_copy['country'].fillna('United States')"
      ],
      "execution_count": 0,
      "outputs": []
    },
    {
      "cell_type": "code",
      "metadata": {
        "id": "lfPV748pyKWN",
        "colab_type": "code",
        "colab": {}
      },
      "source": [
        "patients_copy['zip_code']=patients_copy['zip_code'].fillna(0)\n",
        "patients_copy['zip_code']=patients_copy['zip_code'].astype('int')\n",
        "patients_copy['zip_code']=patients_copy['zip_code'].astype('str')"
      ],
      "execution_count": 0,
      "outputs": []
    },
    {
      "cell_type": "code",
      "metadata": {
        "id": "HGIPW7hWyKWT",
        "colab_type": "code",
        "colab": {}
      },
      "source": [
        "def zip_code(num):\n",
        "    if len(num)==5:\n",
        "        return num\n",
        "    else:\n",
        "        return '0'+num"
      ],
      "execution_count": 0,
      "outputs": []
    },
    {
      "cell_type": "code",
      "metadata": {
        "id": "taiXNU_uyKWY",
        "colab_type": "code",
        "colab": {}
      },
      "source": [
        "patients_copy['zip_code']=patients_copy['zip_code'].apply(lambda code: zip_code(code))"
      ],
      "execution_count": 0,
      "outputs": []
    },
    {
      "cell_type": "code",
      "metadata": {
        "id": "SLoVpVjZyKWd",
        "colab_type": "code",
        "colab": {}
      },
      "source": [
        "patients_copy.drop_duplicates(subset=['address','email'],keep='first',inplace=True)"
      ],
      "execution_count": 0,
      "outputs": []
    },
    {
      "cell_type": "code",
      "metadata": {
        "id": "_QRsoMJMyKWh",
        "colab_type": "code",
        "colab": {}
      },
      "source": [
        "patients_copy['birthdate']=patients_copy['birthdate'].apply(pd.to_datetime)"
      ],
      "execution_count": 0,
      "outputs": []
    },
    {
      "cell_type": "code",
      "metadata": {
        "id": "3CjIWmGHyKWm",
        "colab_type": "code",
        "colab": {}
      },
      "source": [
        "patients_copy['assigned_sex']=patients_copy['assigned_sex'].astype('category')"
      ],
      "execution_count": 0,
      "outputs": []
    },
    {
      "cell_type": "code",
      "metadata": {
        "id": "hHtZf6QiyKWt",
        "colab_type": "code",
        "colab": {}
      },
      "source": [
        "treatment_copy['start']=treatment_copy['start'].apply(lambda start: int(start.split('u')[0]))"
      ],
      "execution_count": 0,
      "outputs": []
    },
    {
      "cell_type": "code",
      "metadata": {
        "id": "6sxNhYVByKWx",
        "colab_type": "code",
        "colab": {}
      },
      "source": [
        "treatment_copy['end']=treatment_copy['end'].apply(lambda end: int(end.split('u')[0]))"
      ],
      "execution_count": 0,
      "outputs": []
    },
    {
      "cell_type": "code",
      "metadata": {
        "id": "aVDIpHAayKW2",
        "colab_type": "code",
        "colab": {}
      },
      "source": [
        ""
      ],
      "execution_count": 0,
      "outputs": []
    },
    {
      "cell_type": "code",
      "metadata": {
        "id": "Avdin9sryKW9",
        "colab_type": "code",
        "colab": {},
        "outputId": "79679816-2a87-4884-a77f-a29271cb3402"
      },
      "source": [
        "!pip install uszipcode"
      ],
      "execution_count": 0,
      "outputs": [
        {
          "output_type": "stream",
          "text": [
            "Requirement already satisfied: uszipcode in c:\\users\\alekhyo\\anaconda3\\lib\\site-packages (0.2.4)\n",
            "Requirement already satisfied: sqlalchemy in c:\\users\\alekhyo\\anaconda3\\lib\\site-packages (from uszipcode) (1.3.15)\n",
            "Requirement already satisfied: pathlib-mate in c:\\users\\alekhyo\\anaconda3\\lib\\site-packages (from uszipcode) (1.0.0)\n",
            "Requirement already satisfied: requests in c:\\users\\alekhyo\\anaconda3\\lib\\site-packages (from uszipcode) (2.23.0)\n",
            "Requirement already satisfied: attrs in c:\\users\\alekhyo\\anaconda3\\lib\\site-packages (from uszipcode) (19.3.0)\n",
            "Requirement already satisfied: autopep8 in c:\\users\\alekhyo\\anaconda3\\lib\\site-packages (from pathlib-mate->uszipcode) (1.5.2)\n",
            "Requirement already satisfied: six in c:\\users\\alekhyo\\anaconda3\\lib\\site-packages (from pathlib-mate->uszipcode) (1.14.0)\n",
            "Requirement already satisfied: idna<3,>=2.5 in c:\\users\\alekhyo\\anaconda3\\lib\\site-packages (from requests->uszipcode) (2.9)\n",
            "Requirement already satisfied: certifi>=2017.4.17 in c:\\users\\alekhyo\\anaconda3\\lib\\site-packages (from requests->uszipcode) (2019.9.11)\n",
            "Requirement already satisfied: chardet<4,>=3.0.2 in c:\\users\\alekhyo\\anaconda3\\lib\\site-packages (from requests->uszipcode) (3.0.4)\n",
            "Requirement already satisfied: urllib3!=1.25.0,!=1.25.1,<1.26,>=1.21.1 in c:\\users\\alekhyo\\anaconda3\\lib\\site-packages (from requests->uszipcode) (1.25.8)\n",
            "Requirement already satisfied: pycodestyle>=2.5.0 in c:\\users\\alekhyo\\anaconda3\\lib\\site-packages (from autopep8->pathlib-mate->uszipcode) (2.5.0)\n"
          ],
          "name": "stdout"
        }
      ]
    },
    {
      "cell_type": "code",
      "metadata": {
        "id": "HwXdR-SbyKXD",
        "colab_type": "code",
        "colab": {}
      },
      "source": [
        "from uszipcode import SearchEngine, SimpleZipcode, Zipcode"
      ],
      "execution_count": 0,
      "outputs": []
    },
    {
      "cell_type": "code",
      "metadata": {
        "id": "XlOmwpizyKXH",
        "colab_type": "code",
        "colab": {}
      },
      "source": [
        "search=SearchEngine()"
      ],
      "execution_count": 0,
      "outputs": []
    },
    {
      "cell_type": "code",
      "metadata": {
        "id": "NyhDOnlVyKXK",
        "colab_type": "code",
        "colab": {}
      },
      "source": [
        "def find_state(zip_code):\n",
        "    zip_code=int(zip_code)\n",
        "    zipcode = search.by_zipcode(zip_code)\n",
        "    return zipcode.state"
      ],
      "execution_count": 0,
      "outputs": []
    },
    {
      "cell_type": "code",
      "metadata": {
        "id": "STF9li2UyKXO",
        "colab_type": "code",
        "colab": {}
      },
      "source": [
        "patients_copy['States']=patients_copy['zip_code'].apply(lambda zip_code:find_state(zip_code))"
      ],
      "execution_count": 0,
      "outputs": []
    },
    {
      "cell_type": "code",
      "metadata": {
        "id": "VDu1g7FYyKXT",
        "colab_type": "code",
        "colab": {}
      },
      "source": [
        "patients_copy.drop(columns='state',inplace=True)"
      ],
      "execution_count": 0,
      "outputs": []
    },
    {
      "cell_type": "code",
      "metadata": {
        "id": "Wu_p4AySyKXY",
        "colab_type": "code",
        "colab": {}
      },
      "source": [
        ""
      ],
      "execution_count": 0,
      "outputs": []
    },
    {
      "cell_type": "code",
      "metadata": {
        "id": "uTvdy74YyKXe",
        "colab_type": "code",
        "colab": {}
      },
      "source": [
        ""
      ],
      "execution_count": 0,
      "outputs": []
    },
    {
      "cell_type": "code",
      "metadata": {
        "id": "XQK-b7BLyKXj",
        "colab_type": "code",
        "colab": {}
      },
      "source": [
        "patients_copy=patients_copy[['patient_id', 'assigned_sex', 'given_name', 'surname', 'address',\n",
        "       'city', 'zip_code', 'States','country', 'birthdate', 'weight', 'height', 'bmi',\n",
        "       'phone', 'email']]"
      ],
      "execution_count": 0,
      "outputs": []
    },
    {
      "cell_type": "code",
      "metadata": {
        "id": "B4iANPuEyKXo",
        "colab_type": "code",
        "colab": {},
        "outputId": "a12899ea-5ff3-447c-a193-417960624967"
      },
      "source": [
        "np.unique(patients_copy['height'].values)"
      ],
      "execution_count": 0,
      "outputs": [
        {
          "output_type": "execute_result",
          "data": {
            "text/plain": [
              "array([27, 59, 60, 61, 62, 63, 64, 65, 66, 67, 68, 69, 70, 71, 72, 73, 74,\n",
              "       75, 76, 77, 78, 79], dtype=int64)"
            ]
          },
          "metadata": {
            "tags": []
          },
          "execution_count": 288
        }
      ]
    },
    {
      "cell_type": "code",
      "metadata": {
        "id": "WE7LStA9yKXt",
        "colab_type": "code",
        "colab": {}
      },
      "source": [
        "wt=patients_copy.loc[patients_copy['height']==27,'weight'].values[0]\n",
        "bmi=patients_copy.loc[patients_copy['height']==27,'bmi'].values[0]\n",
        "patients_copy.loc[patients_copy['height']==27,'height']=round(math.sqrt((703*wt)/bmi),2)"
      ],
      "execution_count": 0,
      "outputs": []
    },
    {
      "cell_type": "code",
      "metadata": {
        "id": "KlWUetbOyKX0",
        "colab_type": "code",
        "colab": {}
      },
      "source": [
        ""
      ],
      "execution_count": 0,
      "outputs": []
    },
    {
      "cell_type": "code",
      "metadata": {
        "id": "L1Xt_Y1ayKX5",
        "colab_type": "code",
        "colab": {}
      },
      "source": [
        "ht=patients_copy.loc[patients_copy['weight']==48.8,'height'].values[0]\n",
        "bmi=patients_copy.loc[patients_copy['weight']==48.8,'bmi'].values[0]\n",
        "patients_copy.loc[patients_copy['weight']==48.8,'weight']=round((bmi*(ht**2)/703),2)"
      ],
      "execution_count": 0,
      "outputs": []
    },
    {
      "cell_type": "code",
      "metadata": {
        "id": "FmEq1J9XyKX9",
        "colab_type": "code",
        "colab": {},
        "outputId": "f68f6c3a-58e2-4610-e8af-2b556acad79f"
      },
      "source": [
        "patients_copy.describe()"
      ],
      "execution_count": 0,
      "outputs": [
        {
          "output_type": "execute_result",
          "data": {
            "text/html": [
              "<div>\n",
              "<style scoped>\n",
              "    .dataframe tbody tr th:only-of-type {\n",
              "        vertical-align: middle;\n",
              "    }\n",
              "\n",
              "    .dataframe tbody tr th {\n",
              "        vertical-align: top;\n",
              "    }\n",
              "\n",
              "    .dataframe thead th {\n",
              "        text-align: right;\n",
              "    }\n",
              "</style>\n",
              "<table border=\"1\" class=\"dataframe\">\n",
              "  <thead>\n",
              "    <tr style=\"text-align: right;\">\n",
              "      <th></th>\n",
              "      <th>patient_id</th>\n",
              "      <th>weight</th>\n",
              "      <th>height</th>\n",
              "      <th>bmi</th>\n",
              "    </tr>\n",
              "  </thead>\n",
              "  <tbody>\n",
              "    <tr>\n",
              "      <th>count</th>\n",
              "      <td>484.000000</td>\n",
              "      <td>484.000000</td>\n",
              "      <td>484.000000</td>\n",
              "      <td>484.000000</td>\n",
              "    </tr>\n",
              "    <tr>\n",
              "      <th>mean</th>\n",
              "      <td>251.780992</td>\n",
              "      <td>173.379194</td>\n",
              "      <td>66.667293</td>\n",
              "      <td>27.496074</td>\n",
              "    </tr>\n",
              "    <tr>\n",
              "      <th>std</th>\n",
              "      <td>147.331198</td>\n",
              "      <td>33.756135</td>\n",
              "      <td>4.045068</td>\n",
              "      <td>5.279599</td>\n",
              "    </tr>\n",
              "    <tr>\n",
              "      <th>min</th>\n",
              "      <td>1.000000</td>\n",
              "      <td>102.100000</td>\n",
              "      <td>59.000000</td>\n",
              "      <td>17.100000</td>\n",
              "    </tr>\n",
              "    <tr>\n",
              "      <th>25%</th>\n",
              "      <td>122.750000</td>\n",
              "      <td>148.600000</td>\n",
              "      <td>63.000000</td>\n",
              "      <td>23.200000</td>\n",
              "    </tr>\n",
              "    <tr>\n",
              "      <th>50%</th>\n",
              "      <td>252.000000</td>\n",
              "      <td>174.450000</td>\n",
              "      <td>67.000000</td>\n",
              "      <td>27.200000</td>\n",
              "    </tr>\n",
              "    <tr>\n",
              "      <th>75%</th>\n",
              "      <td>381.250000</td>\n",
              "      <td>199.575000</td>\n",
              "      <td>70.000000</td>\n",
              "      <td>31.700000</td>\n",
              "    </tr>\n",
              "    <tr>\n",
              "      <th>max</th>\n",
              "      <td>502.000000</td>\n",
              "      <td>255.900000</td>\n",
              "      <td>79.000000</td>\n",
              "      <td>37.700000</td>\n",
              "    </tr>\n",
              "  </tbody>\n",
              "</table>\n",
              "</div>"
            ],
            "text/plain": [
              "       patient_id      weight      height         bmi\n",
              "count  484.000000  484.000000  484.000000  484.000000\n",
              "mean   251.780992  173.379194   66.667293   27.496074\n",
              "std    147.331198   33.756135    4.045068    5.279599\n",
              "min      1.000000  102.100000   59.000000   17.100000\n",
              "25%    122.750000  148.600000   63.000000   23.200000\n",
              "50%    252.000000  174.450000   67.000000   27.200000\n",
              "75%    381.250000  199.575000   70.000000   31.700000\n",
              "max    502.000000  255.900000   79.000000   37.700000"
            ]
          },
          "metadata": {
            "tags": []
          },
          "execution_count": 291
        }
      ]
    },
    {
      "cell_type": "code",
      "metadata": {
        "id": "41B2HuxYyKYF",
        "colab_type": "code",
        "colab": {},
        "outputId": "65d054b2-5f0b-422c-9713-a782e2320c17"
      },
      "source": [
        "treatment_copy.sample(5)"
      ],
      "execution_count": 0,
      "outputs": [
        {
          "output_type": "execute_result",
          "data": {
            "text/html": [
              "<div>\n",
              "<style scoped>\n",
              "    .dataframe tbody tr th:only-of-type {\n",
              "        vertical-align: middle;\n",
              "    }\n",
              "\n",
              "    .dataframe tbody tr th {\n",
              "        vertical-align: top;\n",
              "    }\n",
              "\n",
              "    .dataframe thead th {\n",
              "        text-align: right;\n",
              "    }\n",
              "</style>\n",
              "<table border=\"1\" class=\"dataframe\">\n",
              "  <thead>\n",
              "    <tr style=\"text-align: right;\">\n",
              "      <th></th>\n",
              "      <th>given_name</th>\n",
              "      <th>surname</th>\n",
              "      <th>hba1c_start</th>\n",
              "      <th>hba1c_end</th>\n",
              "      <th>hba1c_change</th>\n",
              "      <th>treatment</th>\n",
              "      <th>start</th>\n",
              "      <th>end</th>\n",
              "      <th>adverse_reaction</th>\n",
              "    </tr>\n",
              "  </thead>\n",
              "  <tbody>\n",
              "    <tr>\n",
              "      <th>165</th>\n",
              "      <td>Genet</td>\n",
              "      <td>Fesahaye</td>\n",
              "      <td>7.73</td>\n",
              "      <td>7.36</td>\n",
              "      <td>0.37</td>\n",
              "      <td>auralin</td>\n",
              "      <td>25</td>\n",
              "      <td>35</td>\n",
              "      <td>NaN</td>\n",
              "    </tr>\n",
              "    <tr>\n",
              "      <th>271</th>\n",
              "      <td>Valur</td>\n",
              "      <td>Bjarkason</td>\n",
              "      <td>9.71</td>\n",
              "      <td>9.41</td>\n",
              "      <td>0.30</td>\n",
              "      <td>novodra</td>\n",
              "      <td>31</td>\n",
              "      <td>36</td>\n",
              "      <td>NaN</td>\n",
              "    </tr>\n",
              "    <tr>\n",
              "      <th>18</th>\n",
              "      <td>Chỉ</td>\n",
              "      <td>Lâm</td>\n",
              "      <td>7.68</td>\n",
              "      <td>7.24</td>\n",
              "      <td>0.44</td>\n",
              "      <td>auralin</td>\n",
              "      <td>45</td>\n",
              "      <td>48</td>\n",
              "      <td>NaN</td>\n",
              "    </tr>\n",
              "    <tr>\n",
              "      <th>98</th>\n",
              "      <td>Peter</td>\n",
              "      <td>Pospíšil</td>\n",
              "      <td>7.76</td>\n",
              "      <td>7.34</td>\n",
              "      <td>0.42</td>\n",
              "      <td>auralin</td>\n",
              "      <td>51</td>\n",
              "      <td>60</td>\n",
              "      <td>NaN</td>\n",
              "    </tr>\n",
              "    <tr>\n",
              "      <th>76</th>\n",
              "      <td>Helen</td>\n",
              "      <td>Luwam</td>\n",
              "      <td>7.66</td>\n",
              "      <td>7.19</td>\n",
              "      <td>0.47</td>\n",
              "      <td>auralin</td>\n",
              "      <td>32</td>\n",
              "      <td>42</td>\n",
              "      <td>NaN</td>\n",
              "    </tr>\n",
              "  </tbody>\n",
              "</table>\n",
              "</div>"
            ],
            "text/plain": [
              "    given_name    surname  hba1c_start  hba1c_end  hba1c_change treatment  \\\n",
              "165      Genet   Fesahaye         7.73       7.36          0.37   auralin   \n",
              "271      Valur  Bjarkason         9.71       9.41          0.30   novodra   \n",
              "18         Chỉ        Lâm         7.68       7.24          0.44   auralin   \n",
              "98       Peter   Pospíšil         7.76       7.34          0.42   auralin   \n",
              "76       Helen      Luwam         7.66       7.19          0.47   auralin   \n",
              "\n",
              "     start  end adverse_reaction  \n",
              "165     25   35              NaN  \n",
              "271     31   36              NaN  \n",
              "18      45   48              NaN  \n",
              "98      51   60              NaN  \n",
              "76      32   42              NaN  "
            ]
          },
          "metadata": {
            "tags": []
          },
          "execution_count": 302
        }
      ]
    },
    {
      "cell_type": "code",
      "metadata": {
        "id": "EuThkCHjyKYK",
        "colab_type": "code",
        "colab": {},
        "outputId": "85ff1fe1-c99c-4e63-ace0-da2e99aa9118"
      },
      "source": [
        "patients_copy.sample(5)"
      ],
      "execution_count": 0,
      "outputs": [
        {
          "output_type": "execute_result",
          "data": {
            "text/html": [
              "<div>\n",
              "<style scoped>\n",
              "    .dataframe tbody tr th:only-of-type {\n",
              "        vertical-align: middle;\n",
              "    }\n",
              "\n",
              "    .dataframe tbody tr th {\n",
              "        vertical-align: top;\n",
              "    }\n",
              "\n",
              "    .dataframe thead th {\n",
              "        text-align: right;\n",
              "    }\n",
              "</style>\n",
              "<table border=\"1\" class=\"dataframe\">\n",
              "  <thead>\n",
              "    <tr style=\"text-align: right;\">\n",
              "      <th></th>\n",
              "      <th>patient_id</th>\n",
              "      <th>assigned_sex</th>\n",
              "      <th>given_name</th>\n",
              "      <th>surname</th>\n",
              "      <th>address</th>\n",
              "      <th>city</th>\n",
              "      <th>zip_code</th>\n",
              "      <th>States</th>\n",
              "      <th>country</th>\n",
              "      <th>birthdate</th>\n",
              "      <th>weight</th>\n",
              "      <th>height</th>\n",
              "      <th>bmi</th>\n",
              "      <th>phone</th>\n",
              "      <th>email</th>\n",
              "    </tr>\n",
              "  </thead>\n",
              "  <tbody>\n",
              "    <tr>\n",
              "      <th>464</th>\n",
              "      <td>465</td>\n",
              "      <td>female</td>\n",
              "      <td>Meaza</td>\n",
              "      <td>Brhane</td>\n",
              "      <td>142 Broad Street</td>\n",
              "      <td>Springville</td>\n",
              "      <td>35146</td>\n",
              "      <td>AL</td>\n",
              "      <td>United States</td>\n",
              "      <td>1991-06-22</td>\n",
              "      <td>161.3</td>\n",
              "      <td>69.0</td>\n",
              "      <td>23.8</td>\n",
              "      <td>205-467-9279</td>\n",
              "      <td>MeazaBrhane@superrito.com</td>\n",
              "    </tr>\n",
              "    <tr>\n",
              "      <th>399</th>\n",
              "      <td>400</td>\n",
              "      <td>male</td>\n",
              "      <td>Eric</td>\n",
              "      <td>Ek</td>\n",
              "      <td>4160 Pratt Avenue</td>\n",
              "      <td>Seattle</td>\n",
              "      <td>98109</td>\n",
              "      <td>WA</td>\n",
              "      <td>United States</td>\n",
              "      <td>1943-04-07</td>\n",
              "      <td>212.1</td>\n",
              "      <td>71.0</td>\n",
              "      <td>29.6</td>\n",
              "      <td>+1 (360) 965-1558</td>\n",
              "      <td>EricEk@jourrapide.com</td>\n",
              "    </tr>\n",
              "    <tr>\n",
              "      <th>153</th>\n",
              "      <td>154</td>\n",
              "      <td>male</td>\n",
              "      <td>John</td>\n",
              "      <td>Carreiro</td>\n",
              "      <td>1463 Martha Ellen Drive</td>\n",
              "      <td>Reno</td>\n",
              "      <td>89509</td>\n",
              "      <td>NV</td>\n",
              "      <td>United States</td>\n",
              "      <td>1976-04-08</td>\n",
              "      <td>177.8</td>\n",
              "      <td>68.0</td>\n",
              "      <td>27.0</td>\n",
              "      <td>1 775 770 7827</td>\n",
              "      <td>JohnACarreiro@superrito.com</td>\n",
              "    </tr>\n",
              "    <tr>\n",
              "      <th>54</th>\n",
              "      <td>55</td>\n",
              "      <td>female</td>\n",
              "      <td>Louise</td>\n",
              "      <td>Johnson</td>\n",
              "      <td>4984 Hampton Meadows</td>\n",
              "      <td>Burlington</td>\n",
              "      <td>01803</td>\n",
              "      <td>MA</td>\n",
              "      <td>United States</td>\n",
              "      <td>1931-03-01</td>\n",
              "      <td>141.0</td>\n",
              "      <td>62.0</td>\n",
              "      <td>25.8</td>\n",
              "      <td>978-407-1874</td>\n",
              "      <td>LouiseJohnson@rhyta.com</td>\n",
              "    </tr>\n",
              "    <tr>\n",
              "      <th>371</th>\n",
              "      <td>372</td>\n",
              "      <td>female</td>\n",
              "      <td>Asya</td>\n",
              "      <td>Musliyevich</td>\n",
              "      <td>1763 Williams Mine Road</td>\n",
              "      <td>Weehawken</td>\n",
              "      <td>07087</td>\n",
              "      <td>NJ</td>\n",
              "      <td>United States</td>\n",
              "      <td>1995-07-15</td>\n",
              "      <td>156.0</td>\n",
              "      <td>63.0</td>\n",
              "      <td>27.6</td>\n",
              "      <td>+1 (908) 287-7099</td>\n",
              "      <td>AsyaMusliyevich@armyspy.com</td>\n",
              "    </tr>\n",
              "  </tbody>\n",
              "</table>\n",
              "</div>"
            ],
            "text/plain": [
              "     patient_id assigned_sex given_name      surname                  address  \\\n",
              "464         465       female      Meaza       Brhane         142 Broad Street   \n",
              "399         400         male       Eric           Ek        4160 Pratt Avenue   \n",
              "153         154         male       John     Carreiro  1463 Martha Ellen Drive   \n",
              "54           55       female     Louise      Johnson     4984 Hampton Meadows   \n",
              "371         372       female       Asya  Musliyevich  1763 Williams Mine Road   \n",
              "\n",
              "            city zip_code States        country  birthdate  weight  height  \\\n",
              "464  Springville    35146     AL  United States 1991-06-22   161.3    69.0   \n",
              "399      Seattle    98109     WA  United States 1943-04-07   212.1    71.0   \n",
              "153         Reno    89509     NV  United States 1976-04-08   177.8    68.0   \n",
              "54    Burlington    01803     MA  United States 1931-03-01   141.0    62.0   \n",
              "371    Weehawken    07087     NJ  United States 1995-07-15   156.0    63.0   \n",
              "\n",
              "      bmi              phone                        email  \n",
              "464  23.8       205-467-9279    MeazaBrhane@superrito.com  \n",
              "399  29.6  +1 (360) 965-1558        EricEk@jourrapide.com  \n",
              "153  27.0     1 775 770 7827  JohnACarreiro@superrito.com  \n",
              "54   25.8       978-407-1874      LouiseJohnson@rhyta.com  \n",
              "371  27.6  +1 (908) 287-7099  AsyaMusliyevich@armyspy.com  "
            ]
          },
          "metadata": {
            "tags": []
          },
          "execution_count": 301
        }
      ]
    },
    {
      "cell_type": "code",
      "metadata": {
        "id": "W8C10yaSyKYP",
        "colab_type": "code",
        "colab": {}
      },
      "source": [
        ""
      ],
      "execution_count": 0,
      "outputs": []
    }
  ]
}